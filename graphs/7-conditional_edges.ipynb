{
 "cells": [
  {
   "cell_type": "code",
   "execution_count": null,
   "id": "109aeedf",
   "metadata": {},
   "outputs": [],
   "source": [
    "from typing import TypedDict,List\n",
    "from langgraph.graph import StateGraph, START, END\n",
    "\n",
    "class AgentState(TypedDict):\n",
    "    x:int\n",
    "    y:int\n",
    "    res:int\n",
    "    operation:str"
   ]
  },
  {
   "cell_type": "code",
   "execution_count": null,
   "id": "5ec85b7f",
   "metadata": {},
   "outputs": [],
   "source": [
    "def adder(state:AgentState)->AgentState:\n",
    "    state[\"res\"] = state[\"x\"] + state[\"y\"]\n",
    "    return state\n",
    "\n",
    "def subtract(state:AgentState)->AgentState:\n",
    "    state[\"res\"] = state[\"x\"] - state[\"y\"]\n",
    "    return state\n",
    "\n",
    "def decide_next_node(state:AgentState):\n",
    "    if state['operation'] == '+':\n",
    "        return \"addition\"\n",
    "        state[\"res\"] = f\"\\n Your sum: {sum(state['values_list'])} \"\n",
    "    elif state['operation'] == '-':\n",
    "        return \"subtraction\"\n",
    "        res = math.prod(state['values_list'])\n",
    "        state[\"res\"] = f\"\\n Your product: {res}\"\n",
    "\n"
   ]
  },
  {
   "cell_type": "code",
   "execution_count": null,
   "id": "ded56d58",
   "metadata": {},
   "outputs": [],
   "source": [
    "graph = StateGraph(AgentState)\n",
    "graph.add_node(\"addition_node\",adder)\n",
    "graph.add_node(\"subtraction_node\",subtract)\n",
    "graph.add_node(\"router\",lambda state:state)\n",
    "graph.add_edge(START,\"router\")\n",
    "graph.add_conditional_edges(\n",
    "    source=\"router\",\n",
    "    path=decide_next_node,\n",
    "    path_map={\n",
    "        \"addition\":\"addition_node\",\n",
    "        \"subtraction\":\"subtraction_node\",\n",
    "    }\n",
    ")\n",
    "graph.add_edge(\"addition_node\",END)\n",
    "graph.add_edge(\"subtraction_node\",END)\n",
    "app = graph.compile()"
   ]
  },
  {
   "cell_type": "code",
   "execution_count": null,
   "id": "10c69b80",
   "metadata": {},
   "outputs": [],
   "source": [
    "res = app.invoke({\"name\":\"Utsav\",\"age\":21,\"skills\":[\"python\",\"flutter\"]})\n",
    "res"
   ]
  },
  {
   "cell_type": "code",
   "execution_count": null,
   "id": "1a00574c",
   "metadata": {},
   "outputs": [],
   "source": [
    "from IPython.display import Image, display\n",
    "display(Image(app.get_graph().draw_mermaid_png()))"
   ]
  },
  {
   "cell_type": "code",
   "execution_count": null,
   "id": "a71c2176",
   "metadata": {},
   "outputs": [],
   "source": []
  }
 ],
 "metadata": {
  "kernelspec": {
   "display_name": "learning-langgraph",
   "language": "python",
   "name": "python3"
  },
  "language_info": {
   "codemirror_mode": {
    "name": "ipython",
    "version": 3
   },
   "file_extension": ".py",
   "mimetype": "text/x-python",
   "name": "python",
   "nbconvert_exporter": "python",
   "pygments_lexer": "ipython3",
   "version": "3.10.6"
  }
 },
 "nbformat": 4,
 "nbformat_minor": 5
}
