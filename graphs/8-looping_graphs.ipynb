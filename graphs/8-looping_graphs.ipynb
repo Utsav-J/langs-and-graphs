{
 "cells": [
  {
   "cell_type": "code",
   "execution_count": 2,
   "id": "d97fea9c",
   "metadata": {},
   "outputs": [],
   "source": [
    "from typing import TypedDict, Dict, List\n",
    "from langgraph.graph import StateGraph, START, END\n",
    "import random"
   ]
  },
  {
   "cell_type": "code",
   "execution_count": 3,
   "id": "74cc4bf3",
   "metadata": {},
   "outputs": [],
   "source": [
    "class AgentState(TypedDict):\n",
    "    name:str\n",
    "    numbers:List[int]\n",
    "    counter:int"
   ]
  },
  {
   "cell_type": "code",
   "execution_count": 4,
   "id": "12f0324a",
   "metadata": {},
   "outputs": [],
   "source": [
    "def greeting_node(state:AgentState)->AgentState:\n",
    "    state['name'] = f\"Hi there, {state['name']}\"\n",
    "    state['counter'] = 0\n",
    "    return state\n",
    "\n",
    "def random_node(state:AgentState)->AgentState:\n",
    "    state['numbers'].append(random.randint(0,10))\n",
    "    state['counter'] += 1\n",
    "    return state\n",
    "\n",
    "def should_continue(state:AgentState)->AgentState:\n",
    "    if state['counter'] < 5:\n",
    "        print(\"entering the loop\", state['counter'])\n",
    "        return \"loop\"\n",
    "    else:\n",
    "        return \"exit\""
   ]
  },
  {
   "cell_type": "code",
   "execution_count": 5,
   "id": "27d74962",
   "metadata": {},
   "outputs": [],
   "source": [
    "graph = StateGraph(AgentState)\n",
    "graph.add_node(\"greeting\", greeting_node)\n",
    "graph.add_node(\"random\", random_node)\n",
    "graph.add_edge(START, \"greeting\")\n",
    "graph.add_edge(\"greeting\", \"random\")\n",
    "graph.add_conditional_edges(\n",
    "    source=\"random\",\n",
    "    path=should_continue,\n",
    "    path_map={\n",
    "        \"loop\":\"random\",\n",
    "        \"exit\":END\n",
    "    }\n",
    ")\n",
    "app = graph.compile()"
   ]
  },
  {
   "cell_type": "code",
   "execution_count": 7,
   "id": "c542b979",
   "metadata": {},
   "outputs": [
    {
     "data": {
      "image/png": "[encoded data removed]",
      "text/plain": [
       "<IPython.core.display.Image object>"
      ]
     },
     "metadata": {},
     "output_type": "display_data"
    }
   ],
   "source": [
    "from IPython.display import display,Image\n",
    "display(Image(app.get_graph().draw_mermaid_png()))"
   ]
  },
  {
   "cell_type": "code",
   "execution_count": 8,
   "id": "c4b54dcc",
   "metadata": {},
   "outputs": [
    {
     "name": "stdout",
     "output_type": "stream",
     "text": [
      "entering the loop 1\n",
      "entering the loop 2\n",
      "entering the loop 3\n",
      "entering the loop 4\n"
     ]
    }
   ],
   "source": [
    "res = app.invoke(\n",
    "    {\n",
    "        \"name\":\"Utsav\",\n",
    "        \"numbers\":[],\n",
    "        \"counter\":-1\n",
    "    }\n",
    ")"
   ]
  },
  {
   "cell_type": "code",
   "execution_count": 9,
   "id": "ac72d977",
   "metadata": {},
   "outputs": [
    {
     "data": {
      "text/plain": [
       "{'name': 'Hi there, Utsav', 'numbers': [0, 3, 10, 8, 6], 'counter': 5}"
      ]
     },
     "execution_count": 9,
     "metadata": {},
     "output_type": "execute_result"
    }
   ],
   "source": [
    "res"
   ]
  },
  {
   "cell_type": "code",
   "execution_count": null,
   "id": "4fc73b23",
   "metadata": {},
   "outputs": [],
   "source": []
  }
 ],
 "metadata": {
  "kernelspec": {
   "display_name": "learning-langgraph",
   "language": "python",
   "name": "python3"
  },
  "language_info": {
   "codemirror_mode": {
    "name": "ipython",
    "version": 3
   },
   "file_extension": ".py",
   "mimetype": "text/x-python",
   "name": "python",
   "nbconvert_exporter": "python",
   "pygments_lexer": "ipython3",
   "version": "3.10.6"
  }
 },
 "nbformat": 4,
 "nbformat_minor": 5
}
