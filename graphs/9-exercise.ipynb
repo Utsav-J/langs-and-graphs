{
 "cells": [
  {
   "cell_type": "code",
   "execution_count": 21,
   "id": "e1a236a5",
   "metadata": {},
   "outputs": [],
   "source": [
    "from typing import List, TypedDict\n",
    "from langgraph.graph import StateGraph, START, END\n",
    "import random"
   ]
  },
  {
   "cell_type": "code",
   "execution_count": 22,
   "id": "e8e5f020",
   "metadata": {},
   "outputs": [],
   "source": [
    "class AgentState(TypedDict):\n",
    "    lower_bound:int\n",
    "    upper_bound:int\n",
    "    guesses:List[int]\n",
    "    attempts:int\n",
    "    player_name:str\n",
    "    target_number:int"
   ]
  },
  {
   "cell_type": "code",
   "execution_count": 23,
   "id": "28d0a437",
   "metadata": {},
   "outputs": [],
   "source": [
    "def setup_node(state:AgentState)->AgentState:\n",
    "    state['lower_bound'] = 1\n",
    "    state['upper_bound'] = 20\n",
    "    state['attempts'] = 0\n",
    "    state['guesses'] = []\n",
    "    if not state['player_name']:\n",
    "        state['player_name'] = \"player\"\n",
    "    if state['target_number'] not in range(state['lower_bound'], state['upper_bound'] + 1):\n",
    "        print(\"provided target was not in the bound range\")\n",
    "        new_target = random.randint(state['lower_bound'], state['upper_bound'])\n",
    "        print(f\"new target is: {new_target}\")\n",
    "        state[\"target_number\"] = new_target\n",
    "    print(\"setup complete\")\n",
    "    print(state)\n",
    "    return state"
   ]
  },
  {
   "cell_type": "code",
   "execution_count": 24,
   "id": "71decbea",
   "metadata": {},
   "outputs": [],
   "source": [
    "def guess_node(state:AgentState)->AgentState:\n",
    "    current_guess = random.randint(state['lower_bound'], state['upper_bound'])\n",
    "    state['guesses'].append(current_guess)\n",
    "    state['attempts'] += 1 \n",
    "    return state"
   ]
  },
  {
   "cell_type": "code",
   "execution_count": 25,
   "id": "aac7984e",
   "metadata": {},
   "outputs": [],
   "source": [
    "def hint_node(state:AgentState)->AgentState:\n",
    "    latest_guess = state['guesses'][-1]\n",
    "\n",
    "    if latest_guess == state['target_number']:\n",
    "        print(\"correctly guessed\")\n",
    "    \n",
    "    elif latest_guess < state['target_number']: #eg guess:4 actual:6\n",
    "        print(f\"guess {latest_guess} was less than {state['target_number']}\")\n",
    "        print(f\"setting lower bound to {state['guesses'][-1]+1}\")\n",
    "        state[\"lower_bound\"] = state[\"guesses\"][-1]+1\n",
    "\n",
    "    else: #latest_guess > state['target_number']: #eg guess:4 actual:2\n",
    "        print(f\"guess {latest_guess} was greater than {state['target_number']}\")\n",
    "        print(f\"setting upper bound to {state['guesses'][-1]-1}\")\n",
    "        state[\"upper_bound\"] = state[\"guesses\"][-1]-1\n",
    "    \n",
    "    return state\n"
   ]
  },
  {
   "cell_type": "code",
   "execution_count": 26,
   "id": "a2caabff",
   "metadata": {},
   "outputs": [],
   "source": [
    "def should_continue(state:AgentState)->str:\n",
    "    latest_guess = state[\"guesses\"][-1]\n",
    "    if latest_guess == state[\"target_number\"]:\n",
    "        print(f\"GAME OVER: Number found!\")\n",
    "        return \"exit\"\n",
    "    \n",
    "    if state['attempts'] > 7:\n",
    "        print(\"the system was unable to guess the number\")\n",
    "        return \"exit\"\n",
    "    else:\n",
    "        return \"loop\"\n",
    "\n",
    "    \n"
   ]
  },
  {
   "cell_type": "code",
   "execution_count": 27,
   "id": "6f10b51a",
   "metadata": {},
   "outputs": [],
   "source": [
    "graph = StateGraph(AgentState)\n",
    "graph.add_node(\"setup\", setup_node)\n",
    "graph.add_node(\"guess\", guess_node)\n",
    "graph.add_node(\"hint\",hint_node)\n",
    "\n",
    "graph.add_edge(START, \"setup\")\n",
    "graph.add_edge(\"setup\",\"guess\")\n",
    "graph.add_edge(\"guess\",\"hint\")\n",
    "\n",
    "graph.add_conditional_edges(\n",
    "    source=\"hint\",\n",
    "    path=should_continue,\n",
    "    path_map={\n",
    "        \"loop\":\"guess\",\n",
    "        \"exit\":END\n",
    "    }\n",
    ")\n",
    "app = graph.compile()"
   ]
  },
  {
   "cell_type": "code",
   "execution_count": 28,
   "id": "e49333f6",
   "metadata": {},
   "outputs": [
    {
     "data": {
      "image/png": "[encoded data removed]",
      "text/plain": [
       "<IPython.core.display.Image object>"
      ]
     },
     "metadata": {},
     "output_type": "display_data"
    }
   ],
   "source": [
    "from IPython.display import display, Image\n",
    "display(Image(app.get_graph().draw_mermaid_png()))"
   ]
  },
  {
   "cell_type": "code",
   "execution_count": 29,
   "id": "f477320a",
   "metadata": {},
   "outputs": [
    {
     "name": "stdout",
     "output_type": "stream",
     "text": [
      "setup complete\n",
      "{'lower_bound': 1, 'upper_bound': 20, 'player_name': 'Utsav', 'target_number': 8, 'attempts': 0, 'guesses': []}\n",
      "guess 7 was less than 8\n",
      "setting lower bound to 8\n",
      "guess 16 was greater than 8\n",
      "setting upper bound to 15\n",
      "guess 13 was greater than 8\n",
      "setting upper bound to 12\n",
      "guess 9 was greater than 8\n",
      "setting upper bound to 8\n",
      "correctly guessed\n",
      "GAME OVER: Number found!\n"
     ]
    }
   ],
   "source": [
    "res = app.invoke(\n",
    "    {\n",
    "        'lower_bound':1,\n",
    "        'upper_bound':20,\n",
    "        'player_name':\"Utsav\",\n",
    "        'target_number':8\n",
    "    }\n",
    ")"
   ]
  },
  {
   "cell_type": "code",
   "execution_count": null,
   "id": "7b36f529",
   "metadata": {},
   "outputs": [],
   "source": []
  }
 ],
 "metadata": {
  "kernelspec": {
   "display_name": "learning-langgraph",
   "language": "python",
   "name": "python3"
  },
  "language_info": {
   "codemirror_mode": {
    "name": "ipython",
    "version": 3
   },
   "file_extension": ".py",
   "mimetype": "text/x-python",
   "name": "python",
   "nbconvert_exporter": "python",
   "pygments_lexer": "ipython3",
   "version": "3.10.6"
  }
 },
 "nbformat": 4,
 "nbformat_minor": 5
}
