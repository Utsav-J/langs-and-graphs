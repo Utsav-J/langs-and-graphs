{
 "cells": [
  {
   "cell_type": "code",
   "execution_count": 1,
   "id": "983db0d0",
   "metadata": {},
   "outputs": [],
   "source": [
    "from typing import TypedDict\n",
    "class AgentState(TypedDict):\n",
    "    message:str"
   ]
  },
  {
   "cell_type": "code",
   "execution_count": 2,
   "id": "a1d4ff25",
   "metadata": {},
   "outputs": [],
   "source": [
    "def concat_state(state: AgentState)->AgentState:\n",
    "    state[\"message\"] += \" Youre doing great\"\n",
    "    return state"
   ]
  },
  {
   "cell_type": "code",
   "execution_count": 3,
   "id": "73da42fe",
   "metadata": {},
   "outputs": [],
   "source": [
    "from langgraph.graph import StateGraph\n",
    "graph  = StateGraph(AgentState)\n",
    "graph.add_node(node=\"compliment\",action=concat_state)\n",
    "graph.set_entry_point(\"compliment\")\n",
    "graph.set_finish_point(\"compliment\")\n",
    "app = graph.compile()"
   ]
  },
  {
   "cell_type": "code",
   "execution_count": 4,
   "id": "31793964",
   "metadata": {},
   "outputs": [],
   "source": [
    "res = app.invoke({'message':\"Utsav\"})"
   ]
  },
  {
   "cell_type": "code",
   "execution_count": 5,
   "id": "6b02a9a6",
   "metadata": {},
   "outputs": [
    {
     "data": {
      "text/plain": [
       "{'message': 'Utsav Youre doing great'}"
      ]
     },
     "execution_count": 5,
     "metadata": {},
     "output_type": "execute_result"
    }
   ],
   "source": [
    "res"
   ]
  },
  {
   "cell_type": "code",
   "execution_count": null,
   "id": "5fd9bd50",
   "metadata": {},
   "outputs": [],
   "source": [
    "from IPython.display import Image, display\n",
    "display(Image(app.get_graph().draw_mermaid_png()))"
   ]
  }
 ],
 "metadata": {
  "kernelspec": {
   "display_name": "learning-langgraph",
   "language": "python",
   "name": "python3"
  },
  "language_info": {
   "codemirror_mode": {
    "name": "ipython",
    "version": 3
   },
   "file_extension": ".py",
   "mimetype": "text/x-python",
   "name": "python",
   "nbconvert_exporter": "python",
   "pygments_lexer": "ipython3",
   "version": "3.10.6"
  }
 },
 "nbformat": 4,
 "nbformat_minor": 5
}
