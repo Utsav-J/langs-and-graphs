{
 "cells": [
  {
   "cell_type": "code",
   "execution_count": 1,
   "id": "109aeedf",
   "metadata": {},
   "outputs": [],
   "source": [
    "from typing import TypedDict,List\n",
    "from langgraph.graph import StateGraph\n",
    "import math\n",
    "class AgentState(TypedDict):\n",
    "    values_list:List\n",
    "    operation:str\n",
    "    result:str"
   ]
  },
  {
   "cell_type": "code",
   "execution_count": 5,
   "id": "5ec85b7f",
   "metadata": {},
   "outputs": [],
   "source": [
    "def process_values(state:AgentState)->AgentState:\n",
    "    if state['operation'] == '+':\n",
    "        state[\"result\"] = f\"\\n Your sum: {sum(state['values_list'])} \"\n",
    "    elif state['operation'] == '*':\n",
    "        res = math.prod(state['values_list'])\n",
    "        state[\"result\"] = f\"\\n Your product: {res}\"\n",
    "    else:\n",
    "        state[\"result\"] = f\"\\n Invalid\"\n",
    "    return state\n"
   ]
  },
  {
   "cell_type": "code",
   "execution_count": 6,
   "id": "ded56d58",
   "metadata": {},
   "outputs": [],
   "source": [
    "graph = StateGraph(AgentState)\n",
    "graph.add_node(\"process\",process_values)\n",
    "graph.set_entry_point(\"process\")\n",
    "graph.set_finish_point(\"process\")\n",
    "app = graph.compile()"
   ]
  },
  {
   "cell_type": "code",
   "execution_count": 7,
   "id": "10c69b80",
   "metadata": {},
   "outputs": [
    {
     "data": {
      "text/plain": [
       "{'values_list': [1, 2, 3, 4],\n",
       " 'operation': '*',\n",
       " 'result': '\\n Your product: 24'}"
      ]
     },
     "execution_count": 7,
     "metadata": {},
     "output_type": "execute_result"
    }
   ],
   "source": [
    "res = app.invoke({\"operation\":\"*\",\"values_list\":[1,2,3,4]})\n",
    "res"
   ]
  },
  {
   "cell_type": "code",
   "execution_count": 8,
   "id": "1a00574c",
   "metadata": {},
   "outputs": [
    {
     "data": {
      "image/png": "[encoded data removed]",
      "text/plain": [
       "<IPython.core.display.Image object>"
      ]
     },
     "metadata": {},
     "output_type": "display_data"
    }
   ],
   "source": [
    "from IPython.display import Image, display\n",
    "display(Image(app.get_graph().draw_mermaid_png()))"
   ]
  },
  {
   "cell_type": "code",
   "execution_count": null,
   "id": "a71c2176",
   "metadata": {},
   "outputs": [],
   "source": []
  }
 ],
 "metadata": {
  "kernelspec": {
   "display_name": "learning-langgraph",
   "language": "python",
   "name": "python3"
  },
  "language_info": {
   "codemirror_mode": {
    "name": "ipython",
    "version": 3
   },
   "file_extension": ".py",
   "mimetype": "text/x-python",
   "name": "python",
   "nbconvert_exporter": "python",
   "pygments_lexer": "ipython3",
   "version": "3.10.6"
  }
 },
 "nbformat": 4,
 "nbformat_minor": 5
}
